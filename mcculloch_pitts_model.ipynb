{
 "cells": [
  {
   "cell_type": "code",
   "execution_count": 46,
   "id": "9192ab38",
   "metadata": {},
   "outputs": [
    {
     "name": "stdout",
     "output_type": "stream",
     "text": [
      "the values of w1,w2,thres are 1 1 1\n"
     ]
    },
    {
     "data": {
      "image/png": "[encoded data removed]",
      "text/plain": [
       "<Figure size 432x288 with 1 Axes>"
      ]
     },
     "metadata": {
      "needs_background": "light"
     },
     "output_type": "display_data"
    }
   ],
   "source": [
    "import numpy as np\n",
    "from matplotlib import pyplot as plt\n",
    "x1=[]\n",
    "x2=[]\n",
    "y=[]\n",
    "g=[]\n",
    "g1=[]\n",
    "w=[]\n",
    "w0=[]\n",
    "n1=[]\n",
    "n2=[]\n",
    "thresa=[0,1,2]\n",
    "w1a=[-1,1]\n",
    "w2a=[-1,1]\n",
    "thres=0\n",
    "w1=0\n",
    "w2=0\n",
    "l=[]\n",
    "li=[]\n",
    "flag=-2\n",
    "for i in range(0,2):\n",
    "    for j in range(0,2):\n",
    "        x1.append(i)\n",
    "        x2.append(j)\n",
    "        y.append(i or j)\n",
    "a=0\n",
    "b=0\n",
    "c=0\n",
    "d=0\n",
    "p1=1\n",
    "p0=0\n",
    "while(flag!=1):\n",
    "    for i in range(len(x1)):\n",
    "        d=w1a[a]*x1[i]+w2a[b]*x2[i]\n",
    "        l.append(d)\n",
    "    for i in range(len(l)):\n",
    "        if(l[i]>=thresa[c]):\n",
    "            li.append(p1)\n",
    "        else:\n",
    "            li.append(p0)\n",
    "    if(li==y):\n",
    "        w1=w1a[a]\n",
    "        w2=w2a[b]\n",
    "        thres=thresa[c]\n",
    "        flag=1\n",
    "        break\n",
    "    else:\n",
    "        li=[]\n",
    "    if(c!=2):\n",
    "        c=c+1\n",
    "    if(d!=3):\n",
    "        d=d+1\n",
    "    a=x1[d]\n",
    "    b=x2[d]\n",
    "    l=[]\n",
    "print(\"the values of w1,w2,thres are\",w1,w2,thres)\n",
    "for i in range(len(x1)):\n",
    "    gx2=(thres-w1*x1[i])/w2\n",
    "    g.append(x1[i])\n",
    "    g1.append(gx2)\n",
    "    if(y[i]==1):\n",
    "        w.append(x1[i])\n",
    "        w0.append(x2[i])\n",
    "    else:\n",
    "        n1.append(x1[i])\n",
    "        n2.append(x2[i])\n",
    "plt.plot(g,g1)\n",
    "plt.scatter(w,w0,marker='+')\n",
    "plt.scatter(n1,n2,marker='_')\n",
    "plt.show()\n"
   ]
  }
 ],
 "metadata": {
  "kernelspec": {
   "display_name": "Python 3 (ipykernel)",
   "language": "python",
   "name": "python3"
  },
  "language_info": {
   "codemirror_mode": {
    "name": "ipython",
    "version": 3
   },
   "file_extension": ".py",
   "mimetype": "text/x-python",
   "name": "python",
   "nbconvert_exporter": "python",
   "pygments_lexer": "ipython3",
   "version": "3.9.12"
  }
 },
 "nbformat": 4,
 "nbformat_minor": 5
}
